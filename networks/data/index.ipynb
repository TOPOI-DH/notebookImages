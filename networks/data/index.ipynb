{
 "cells": [
  {
   "cell_type": "markdown",
   "metadata": {},
   "source": [
    "# Stability in graphs of knowledge"
   ]
  },
  {
   "cell_type": "markdown",
   "metadata": {},
   "source": [
    "## Preliminaries"
   ]
  },
  {
   "cell_type": "code",
   "execution_count": null,
   "metadata": {},
   "outputs": [],
   "source": [
    "import pandas as pd\n",
    "#from bokeh.io import show, output_notebook\n",
    "import geoviews as gv\n",
    "#import cartopy.crs as ccrs\n",
    "import geoviews.feature as gf\n",
    "from scipy.spatial import Delaunay\n",
    "import holoviews as hv\n",
    "import numpy as np\n",
    "#import networkx as nx\n",
    "import random\n",
    "from collections import Counter\n",
    "\n",
    "hv.extension('bokeh')"
   ]
  },
  {
   "cell_type": "markdown",
   "metadata": {},
   "source": [
    "## Find neighbours"
   ]
  },
  {
   "cell_type": "code",
   "execution_count": null,
   "metadata": {},
   "outputs": [],
   "source": [
    "df = pd.read_excel('dfPoleis_v001.xlsx')\n",
    "dfPoleis = df.dropna(subset=['latitude', 'longitude'], axis=0, inplace=False).reset_index(drop=True)\n",
    "points=np.array(dfPoleis[[\"latitude\", \"longitude\"]].values.tolist())"
   ]
  },
  {
   "cell_type": "code",
   "execution_count": null,
   "metadata": {},
   "outputs": [],
   "source": [
    "triang = Delaunay(points)\n",
    "\n",
    "def find_neighbors(pindex, triang):\n",
    "    neighbors = []\n",
    "    for simplex in triang.vertices:\n",
    "        if pindex in simplex:\n",
    "            neighbors.extend([simplex[i] for i in range(len(simplex)) if simplex[i] != pindex])\n",
    "    return set(neighbors)"
   ]
  },
  {
   "cell_type": "code",
   "execution_count": null,
   "metadata": {},
   "outputs": [],
   "source": [
    "valDict = {}\n",
    "for value in [\"latitude\", \"longitude\"]:\n",
    "    valDict[value] = [x for y in dfPoleis[[value]].astype(float).values.tolist() for x in y]\n",
    "index = dfPoleis.index.values.tolist()\n",
    "label = dfPoleis['city'].values.tolist()"
   ]
  },
  {
   "cell_type": "markdown",
   "metadata": {},
   "source": [
    "Create links and start values for color distribution."
   ]
  },
  {
   "cell_type": "code",
   "execution_count": null,
   "metadata": {},
   "outputs": [],
   "source": [
    "yellowLength = round(2* len(index) /3)\n",
    "blueLength = len(index) - yellowLength\n",
    "\n",
    "colorList = ['yellow'] * yellowLength + ['blue'] * blueLength"
   ]
  },
  {
   "cell_type": "code",
   "execution_count": null,
   "metadata": {},
   "outputs": [],
   "source": [
    "allLinks = []\n",
    "Neighbors = []\n",
    "for i in index:\n",
    "    neigh = find_neighbors(i,triang)\n",
    "    Neighbors.append((i,random.choice(colorList),neigh))\n",
    "    for n in neigh:\n",
    "        allLinks.append((i,n))"
   ]
  },
  {
   "cell_type": "code",
   "execution_count": null,
   "metadata": {},
   "outputs": [],
   "source": [
    "print('Start values:',Counter([x[1] for x in Neighbors]))"
   ]
  },
  {
   "cell_type": "code",
   "execution_count": null,
   "metadata": {},
   "outputs": [],
   "source": [
    "def mostCommon(lst):\n",
    "    data = Counter(lst)\n",
    "    most = data.most_common(2)\n",
    "    try:\n",
    "        fst_count = most[0][1]\n",
    "    except:\n",
    "        return ''\n",
    "    try:\n",
    "        scnd_count = most[1][1]\n",
    "    except:\n",
    "        return most[0][0]\n",
    "    if fst_count > scnd_count:\n",
    "        return most[0][0]\n",
    "    elif fst_count == scnd_count:\n",
    "        return ''"
   ]
  },
  {
   "cell_type": "code",
   "execution_count": null,
   "metadata": {
    "code_folding": []
   },
   "outputs": [],
   "source": [
    "def iterateColors(neighbourList):\n",
    "    iterateColors = []\n",
    "    for elem in neighbourList:\n",
    "        ind = elem[0]\n",
    "        color = elem[1]\n",
    "        neigh = elem[2]\n",
    "        if neigh:\n",
    "            commonColor = mostCommon([neighbourList[n][1] for n in neigh])\n",
    "            if commonColor:\n",
    "                iterateColors.append((ind,commonColor,neigh))\n",
    "            else:\n",
    "                 iterateColors.append((ind,color,neigh))\n",
    "        else:\n",
    "             iterateColors.append((ind,color,neigh))     \n",
    "    return iterateColors"
   ]
  },
  {
   "cell_type": "code",
   "execution_count": null,
   "metadata": {},
   "outputs": [],
   "source": [
    "print('After iteration: ',Counter([x[1] for x in iterateColors(Neighbors)]))"
   ]
  },
  {
   "cell_type": "markdown",
   "metadata": {},
   "source": [
    "## Model information flow"
   ]
  },
  {
   "cell_type": "code",
   "execution_count": null,
   "metadata": {},
   "outputs": [],
   "source": [
    "N=100\n",
    "startList = Neighbors\n",
    "resultSet = {}\n",
    "for i in range(N):\n",
    "    iteration = iterateColors(startList)\n",
    "    #if i % 10 == 0:\n",
    "    resultSet[i] = [x[1] for x in iteration]\n",
    "    #else:\n",
    "    #    pass\n",
    "    startList = iteration\n",
    "    \n",
    "print('After iteration: ',Counter([x[1] for x in iteration]))"
   ]
  },
  {
   "cell_type": "markdown",
   "metadata": {},
   "source": [
    "All iterations of the simulation are stored in resultSet. This can be used for plotting the time-dependence."
   ]
  },
  {
   "cell_type": "markdown",
   "metadata": {},
   "source": [
    "## Merge city information with iteration result"
   ]
  },
  {
   "cell_type": "code",
   "execution_count": null,
   "metadata": {},
   "outputs": [],
   "source": [
    "cities = dfPoleis[['city','region','latitude','longitude']].dropna(how='any').reset_index().rename(columns={'index':'node'})\n",
    "\n",
    "allColorsFrame = pd.DataFrame(resultSet).stack().reset_index([0,1]).rename(columns={'level_0':'node','level_1':'iteration',0:'color'})\n",
    "\n",
    "citiesIterated = pd.merge(cities,allColorsFrame,on='node')"
   ]
  },
  {
   "cell_type": "markdown",
   "metadata": {},
   "source": [
    "## Generate nodes, graph and tiles"
   ]
  },
  {
   "cell_type": "code",
   "execution_count": null,
   "metadata": {},
   "outputs": [],
   "source": [
    "routes = pd.DataFrame(allLinks,columns=['source','destination']).reset_index().rename(columns={'index':'node'})"
   ]
  },
  {
   "cell_type": "code",
   "execution_count": null,
   "metadata": {},
   "outputs": [],
   "source": [
    "city_points_net = gv.Points(citiesIterated[citiesIterated.iteration == 10],['longitude','latitude'])"
   ]
  },
  {
   "cell_type": "code",
   "execution_count": null,
   "metadata": {},
   "outputs": [],
   "source": [
    "nodes = gv.Nodes(city_points_net,['longitude','latitude','node'],['city','region','color'])"
   ]
  },
  {
   "cell_type": "code",
   "execution_count": null,
   "metadata": {},
   "outputs": [],
   "source": [
    "graph = gv.Graph((routes, nodes), ['source', 'destination'], ['source', 'destination'])"
   ]
  },
  {
   "cell_type": "code",
   "execution_count": null,
   "metadata": {},
   "outputs": [],
   "source": [
    "tiles = gv.WMTS('https://maps.wikimedia.org/osm-intl/{Z}/{X}/{Y}@2x.png')"
   ]
  },
  {
   "cell_type": "code",
   "execution_count": null,
   "metadata": {},
   "outputs": [],
   "source": [
    "cdict = {'yellow':'yellow','blue':'blue'}"
   ]
  },
  {
   "cell_type": "code",
   "execution_count": null,
   "metadata": {},
   "outputs": [],
   "source": [
    "city_points_data = gv.Dataset(citiesIterated, kdims=['city', 'region','iteration'])\n",
    "    \n",
    "city_points_iter = city_points_data.to(gv.Points, kdims=['longitude', 'latitude'],vdims=['city', 'region','color'])"
   ]
  },
  {
   "cell_type": "markdown",
   "metadata": {},
   "source": [
    "## Display iterations on city level"
   ]
  },
  {
   "cell_type": "code",
   "execution_count": null,
   "metadata": {},
   "outputs": [],
   "source": [
    "%%opts Overlay [width=1000 height=600] \n",
    "%%opts Points (size=5 cmap=cdict) [tools=['hover'] color_index='color']\n",
    "%%opts Graph (edge_fill_alpha=0.3 edge_line_width=0.025)\n",
    "\n",
    "tiles * city_points_iter"
   ]
  },
  {
   "cell_type": "code",
   "execution_count": null,
   "metadata": {},
   "outputs": [],
   "source": [
    "# %%opts Graph [width=950 height=600] (edge_selection_line_color='black' edge_hover_line_color='red')\n",
    "%%opts Graph (edge_line_width=1 edge_line_alpha=0.01 edge_nonselection_line_alpha=0.01)\n",
    "%%opts Points (size=5 cmap=cdict) [tools=['hover'] color_index='color']\n",
    "tiles * graph"
   ]
  }
 ],
 "metadata": {
  "kernelspec": {
   "display_name": "Python 3",
   "language": "python",
   "name": "python3"
  },
  "language_info": {
   "codemirror_mode": {
    "name": "ipython",
    "version": 3
   },
   "file_extension": ".py",
   "mimetype": "text/x-python",
   "name": "python",
   "nbconvert_exporter": "python",
   "pygments_lexer": "ipython3",
   "version": "3.6.4"
  },
  "latex_envs": {
   "LaTeX_envs_menu_present": true,
   "autocomplete": true,
   "bibliofile": "biblio.bib",
   "cite_by": "apalike",
   "current_citInitial": 1,
   "eqLabelWithNumbers": true,
   "eqNumInitial": 1,
   "hotkeys": {
    "equation": "Ctrl-E",
    "itemize": "Ctrl-I"
   },
   "labels_anchors": false,
   "latex_user_defs": false,
   "report_style_numbering": false,
   "user_envs_cfg": false
  },
  "toc": {
   "base_numbering": 1,
   "nav_menu": {},
   "number_sections": true,
   "sideBar": false,
   "skip_h1_title": false,
   "title_cell": "Table of Contents",
   "title_sidebar": "Contents",
   "toc_cell": false,
   "toc_position": {
    "height": "246px",
    "left": "1545px",
    "right": "1920px",
    "top": "9px",
    "width": "332px"
   },
   "toc_section_display": true,
   "toc_window_display": true
  }
 },
 "nbformat": 4,
 "nbformat_minor": 2
}
