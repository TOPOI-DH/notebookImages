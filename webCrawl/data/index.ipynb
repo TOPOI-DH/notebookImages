{
 "cells": [
  {
   "cell_type": "markdown",
   "metadata": {},
   "source": [
    "# Beispiel: Arbeiten mit Webseiten als Quellen\n",
    "\n",
    "Viele Datenbank verfügen über eine Webseite, die eine Textsuche erlaubt. Das Result einer solchen Suche kann über das Python Paket beautifulsoup ausgelesen und in einen Dataframe geschrieben werden. \n",
    "Aufgrund dieser Daten kann dann weiter gearbeitet werden, sei es mit regulären Ausdrücken oder NLTK. "
   ]
  },
  {
   "cell_type": "code",
   "execution_count": 32,
   "metadata": {
    "collapsed": true
   },
   "outputs": [],
   "source": [
    "import json\n",
    "import re\n",
    "import pandas as pd\n",
    "\n",
    "import requests\n",
    "from bs4 import BeautifulSoup"
   ]
  },
  {
   "cell_type": "markdown",
   "metadata": {},
   "source": [
    "## Suchanfrage I: isisCB explore\n",
    "\n",
    "Auf der Webseite für das isisCB explore Tool der \"Isis Bibliography of the History of Science\" werden Suchergebnisse über eine Link-Liste dargestellt. \n",
    "\n",
    "In der Liste werden einzelne Ergebnisse in paragraphen sortiert (mit dem tag `<p>`) . Wir generieren eine Unterliste aller paragraphen die das Word `Article` oder `Book` enthalten. "
   ]
  },
  {
   "cell_type": "code",
   "execution_count": 33,
   "metadata": {
    "collapsed": true
   },
   "outputs": [],
   "source": [
    "url2 = 'https://data.isiscb.org/isis/?q=copernicus&models=isisdata.citation&sort_order_citation=publication_date_for_sort&sort_order_dir_citation=descend&sort_order_dir_authority=ascend&selected_facets=citation_subject_ids_exact:CBA000021037'\n",
    "\n",
    "r2  = requests.get(url2)\n",
    "\n",
    "data2 = r2.text\n",
    "\n",
    "soup2 = BeautifulSoup(data2,'lxml')"
   ]
  },
  {
   "cell_type": "code",
   "execution_count": 34,
   "metadata": {
    "collapsed": true
   },
   "outputs": [],
   "source": [
    "baseURL = 'https://data.isiscb.org/'"
   ]
  },
  {
   "cell_type": "markdown",
   "metadata": {},
   "source": [
    "Suche alle Paragraphen, die im Text das Wort Article oder Book enthalten."
   ]
  },
  {
   "cell_type": "code",
   "execution_count": 35,
   "metadata": {
    "collapsed": true
   },
   "outputs": [],
   "source": [
    "plist = soup2.findAll('p')\n",
    "queListe = [x for x in plist if \"Article\" in x.text or \"Book\" in x.text]"
   ]
  },
  {
   "cell_type": "markdown",
   "metadata": {},
   "source": [
    "Für alle gefundenen Datensätze müssen wir nun einem weiteren Link folgen. Dieser wird über den tag `<a>` gesucht, mit der Option `href=True`.\n",
    "Mit dem requests Paket wird eine Anfrage `GET` an die URL gesendet, die sich aus der Basis-URL und dem gefundenen Link zusammensetzt. \n",
    "\n",
    "Das Resultat wird in eine Soup verwandelt. In der neuen Webseite werden die Informationen zu einem Artikel oder Buch über das Element `div` mit der Klasse `class=col-sm 5` dargestellt. \n",
    "In einem solchen Element stehen die Informationen wieder in Paragraphen, die in eine Untermenge eingetragen werden."
   ]
  },
  {
   "cell_type": "code",
   "execution_count": 36,
   "metadata": {
    "collapsed": true
   },
   "outputs": [],
   "source": [
    "resultList = []\n",
    "for x in queListe:\n",
    "    links = x.findAll('a',href=True)\n",
    "    for link in links:\n",
    "        scndLevel = baseURL + link['href']\n",
    "        scndRes = requests.get(scndLevel)\n",
    "        dataTemp = scndRes.text\n",
    "        soupTemp = BeautifulSoup(dataTemp,'lxml')\n",
    "        x = soupTemp.findAll('div',class_='col-sm-5')\n",
    "        pListTemp = x[0].findAll('p')\n",
    "        subList = []\n",
    "        for parag in pListTemp:\n",
    "            res = parag.text\n",
    "            subList.append(res)\n",
    "        resultList.append(subList)    "
   ]
  },
  {
   "cell_type": "markdown",
   "metadata": {},
   "source": [
    "Mittels regex wird aus der Menge aller Resultate eine Menge von Dictionaries gebaut, vorraus wir einen sortierten Dataframe erhalten."
   ]
  },
  {
   "cell_type": "code",
   "execution_count": 37,
   "metadata": {
    "collapsed": true
   },
   "outputs": [],
   "source": [
    "dictList = []\n",
    "for i in range(len(resultList)):\n",
    "    subDict = {}\n",
    "    for k in range(len(resultList[i])):\n",
    "        keys = re.findall('.+?(?=:)',resultList[i][k])\n",
    "        value =re.findall('(?<=:).+',resultList[i][k]) \n",
    "        if keys:\n",
    "            if value:\n",
    "                subDict[keys[0]] = value[0]#resultList[i][k]\n",
    "    dictList.append(subDict)"
   ]
  },
  {
   "cell_type": "code",
   "execution_count": 38,
   "metadata": {},
   "outputs": [
    {
     "data": {
      "text/html": [
       "<div>\n",
       "<style scoped>\n",
       "    .dataframe tbody tr th:only-of-type {\n",
       "        vertical-align: middle;\n",
       "    }\n",
       "\n",
       "    .dataframe tbody tr th {\n",
       "        vertical-align: top;\n",
       "    }\n",
       "\n",
       "    .dataframe thead th {\n",
       "        text-align: right;\n",
       "    }\n",
       "</style>\n",
       "<table border=\"1\" class=\"dataframe\">\n",
       "  <thead>\n",
       "    <tr style=\"text-align: right;\">\n",
       "      <th></th>\n",
       "      <th>http</th>\n",
       "      <th>Adventures in the Bone Trade</th>\n",
       "      <th>Framing the Appearances in the Fifteenth Century</th>\n",
       "      <th>From Tūn to Toruń</th>\n",
       "      <th>In</th>\n",
       "      <th>Lee De Forest</th>\n",
       "      <th>Review of \"Copernicus</th>\n",
       "      <th>Secrets of the Old One</th>\n",
       "      <th>The Status of Astronomy as a Science in Fifteenth-Century Cracow</th>\n",
       "      <th>Abstract</th>\n",
       "      <th>Authors &amp; Contributors</th>\n",
       "      <th>Publication Date</th>\n",
       "    </tr>\n",
       "  </thead>\n",
       "  <tbody>\n",
       "    <tr>\n",
       "      <th>0</th>\n",
       "      <td>//data.isiscb.org/isis/citation/CBB399918134/</td>\n",
       "      <td>NaN</td>\n",
       "      <td>Alberti, Cusa, Regiomontanus, and Copernicus.</td>\n",
       "      <td>The Twists and Turns of the Ṭūsī-Couple.</td>\n",
       "      <td>Before Copernicus: The Cultures and Contexts ...</td>\n",
       "      <td>NaN</td>\n",
       "      <td>NaN</td>\n",
       "      <td>NaN</td>\n",
       "      <td>Ibn al-Haytham, Peurbach, and Copernicus.</td>\n",
       "      <td>In 1984, Noel Swerdlow and Otto Neugebauer ar...</td>\n",
       "      <td>F. Jamil Ragep (Editor) ; Rivka Feldhay (Edit...</td>\n",
       "      <td>2017</td>\n",
       "    </tr>\n",
       "    <tr>\n",
       "      <th>1</th>\n",
       "      <td>//data.isiscb.org/isis/citation/CBB996745065/</td>\n",
       "      <td>NaN</td>\n",
       "      <td>NaN</td>\n",
       "      <td>NaN</td>\n",
       "      <td>NaN</td>\n",
       "      <td>NaN</td>\n",
       "      <td>NaN</td>\n",
       "      <td>NaN</td>\n",
       "      <td>NaN</td>\n",
       "      <td>This paper distinguishes four perspectives in...</td>\n",
       "      <td>Miguel de Asúa (Author) ;</td>\n",
       "      <td>2017</td>\n",
       "    </tr>\n",
       "    <tr>\n",
       "      <th>2</th>\n",
       "      <td>//data.isiscb.org/isis/citation/CBB778304283/</td>\n",
       "      <td>NaN</td>\n",
       "      <td>NaN</td>\n",
       "      <td>NaN</td>\n",
       "      <td>NaN</td>\n",
       "      <td>NaN</td>\n",
       "      <td>NaN</td>\n",
       "      <td>NaN</td>\n",
       "      <td>NaN</td>\n",
       "      <td>A page of notes in Copernicus’s hand shows th...</td>\n",
       "      <td>N.M. Swerdlow (Author) ;</td>\n",
       "      <td>2017</td>\n",
       "    </tr>\n",
       "    <tr>\n",
       "      <th>3</th>\n",
       "      <td>//data.isiscb.org/isis/citation/CBB593896461/</td>\n",
       "      <td>NaN</td>\n",
       "      <td>NaN</td>\n",
       "      <td>NaN</td>\n",
       "      <td>NaN</td>\n",
       "      <td>NaN</td>\n",
       "      <td>NaN</td>\n",
       "      <td>NaN</td>\n",
       "      <td>NaN</td>\n",
       "      <td>It has long been recognized that Copernicus’ ...</td>\n",
       "      <td>F. Jamil Ragep (Author) ;</td>\n",
       "      <td>2016</td>\n",
       "    </tr>\n",
       "    <tr>\n",
       "      <th>4</th>\n",
       "      <td>//data.isiscb.org/isis/citation/CBB896915924/</td>\n",
       "      <td>NaN</td>\n",
       "      <td>NaN</td>\n",
       "      <td>NaN</td>\n",
       "      <td>NaN</td>\n",
       "      <td>NaN</td>\n",
       "      <td>NaN</td>\n",
       "      <td>NaN</td>\n",
       "      <td>NaN</td>\n",
       "      <td>The present paper follows the method introduc...</td>\n",
       "      <td>Gheorghe Stratan (Author) ;</td>\n",
       "      <td>2016</td>\n",
       "    </tr>\n",
       "  </tbody>\n",
       "</table>\n",
       "</div>"
      ],
      "text/plain": [
       "                                            http  \\\n",
       "0  //data.isiscb.org/isis/citation/CBB399918134/   \n",
       "1  //data.isiscb.org/isis/citation/CBB996745065/   \n",
       "2  //data.isiscb.org/isis/citation/CBB778304283/   \n",
       "3  //data.isiscb.org/isis/citation/CBB593896461/   \n",
       "4  //data.isiscb.org/isis/citation/CBB896915924/   \n",
       "\n",
       "    Adventures in the Bone Trade  \\\n",
       "0                            NaN   \n",
       "1                            NaN   \n",
       "2                            NaN   \n",
       "3                            NaN   \n",
       "4                            NaN   \n",
       "\n",
       "    Framing the Appearances in the Fifteenth Century  \\\n",
       "0      Alberti, Cusa, Regiomontanus, and Copernicus.   \n",
       "1                                                NaN   \n",
       "2                                                NaN   \n",
       "3                                                NaN   \n",
       "4                                                NaN   \n",
       "\n",
       "                           From Tūn to Toruń  \\\n",
       "0   The Twists and Turns of the Ṭūsī-Couple.   \n",
       "1                                        NaN   \n",
       "2                                        NaN   \n",
       "3                                        NaN   \n",
       "4                                        NaN   \n",
       "\n",
       "                                                  In   Lee De Forest  \\\n",
       "0   Before Copernicus: The Cultures and Contexts ...             NaN   \n",
       "1                                                NaN             NaN   \n",
       "2                                                NaN             NaN   \n",
       "3                                                NaN             NaN   \n",
       "4                                                NaN             NaN   \n",
       "\n",
       "    Review of \"Copernicus   Secrets of the Old One  \\\n",
       "0                     NaN                      NaN   \n",
       "1                     NaN                      NaN   \n",
       "2                     NaN                      NaN   \n",
       "3                     NaN                      NaN   \n",
       "4                     NaN                      NaN   \n",
       "\n",
       "    The Status of Astronomy as a Science in Fifteenth-Century Cracow  \\\n",
       "0          Ibn al-Haytham, Peurbach, and Copernicus.                   \n",
       "1                                                NaN                   \n",
       "2                                                NaN                   \n",
       "3                                                NaN                   \n",
       "4                                                NaN                   \n",
       "\n",
       "                                            Abstract  \\\n",
       "0   In 1984, Noel Swerdlow and Otto Neugebauer ar...   \n",
       "1   This paper distinguishes four perspectives in...   \n",
       "2   A page of notes in Copernicus’s hand shows th...   \n",
       "3   It has long been recognized that Copernicus’ ...   \n",
       "4   The present paper follows the method introduc...   \n",
       "\n",
       "                              Authors & Contributors Publication Date  \n",
       "0   F. Jamil Ragep (Editor) ; Rivka Feldhay (Edit...             2017  \n",
       "1                          Miguel de Asúa (Author) ;             2017  \n",
       "2                           N.M. Swerdlow (Author) ;             2017  \n",
       "3                          F. Jamil Ragep (Author) ;             2016  \n",
       "4                        Gheorghe Stratan (Author) ;             2016  "
      ]
     },
     "execution_count": 38,
     "metadata": {},
     "output_type": "execute_result"
    }
   ],
   "source": [
    "dfISISTemp = pd.DataFrame(dictList)\n",
    "dfISISTemp.head(5)"
   ]
  },
  {
   "cell_type": "markdown",
   "metadata": {},
   "source": [
    "Um den Dataframe zu bereinigen, verwerfen wir alle Spalten in denen weniger als zwei Werte ungleich NaN sind. Zudem verwerfen wir alle Zeilen, die nur NaN Einträge enthalten."
   ]
  },
  {
   "cell_type": "code",
   "execution_count": 39,
   "metadata": {},
   "outputs": [
    {
     "data": {
      "text/html": [
       "<div>\n",
       "<style scoped>\n",
       "    .dataframe tbody tr th:only-of-type {\n",
       "        vertical-align: middle;\n",
       "    }\n",
       "\n",
       "    .dataframe tbody tr th {\n",
       "        vertical-align: top;\n",
       "    }\n",
       "\n",
       "    .dataframe thead th {\n",
       "        text-align: right;\n",
       "    }\n",
       "</style>\n",
       "<table border=\"1\" class=\"dataframe\">\n",
       "  <thead>\n",
       "    <tr style=\"text-align: right;\">\n",
       "      <th></th>\n",
       "      <th>http</th>\n",
       "      <th>Abstract</th>\n",
       "      <th>Authors &amp; Contributors</th>\n",
       "      <th>Publication Date</th>\n",
       "    </tr>\n",
       "  </thead>\n",
       "  <tbody>\n",
       "    <tr>\n",
       "      <th>0</th>\n",
       "      <td>//data.isiscb.org/isis/citation/CBB399918134/</td>\n",
       "      <td>In 1984, Noel Swerdlow and Otto Neugebauer ar...</td>\n",
       "      <td>F. Jamil Ragep (Editor) ; Rivka Feldhay (Edit...</td>\n",
       "      <td>2017</td>\n",
       "    </tr>\n",
       "    <tr>\n",
       "      <th>1</th>\n",
       "      <td>//data.isiscb.org/isis/citation/CBB996745065/</td>\n",
       "      <td>This paper distinguishes four perspectives in...</td>\n",
       "      <td>Miguel de Asúa (Author) ;</td>\n",
       "      <td>2017</td>\n",
       "    </tr>\n",
       "    <tr>\n",
       "      <th>2</th>\n",
       "      <td>//data.isiscb.org/isis/citation/CBB778304283/</td>\n",
       "      <td>A page of notes in Copernicus’s hand shows th...</td>\n",
       "      <td>N.M. Swerdlow (Author) ;</td>\n",
       "      <td>2017</td>\n",
       "    </tr>\n",
       "    <tr>\n",
       "      <th>3</th>\n",
       "      <td>//data.isiscb.org/isis/citation/CBB593896461/</td>\n",
       "      <td>It has long been recognized that Copernicus’ ...</td>\n",
       "      <td>F. Jamil Ragep (Author) ;</td>\n",
       "      <td>2016</td>\n",
       "    </tr>\n",
       "    <tr>\n",
       "      <th>4</th>\n",
       "      <td>//data.isiscb.org/isis/citation/CBB896915924/</td>\n",
       "      <td>The present paper follows the method introduc...</td>\n",
       "      <td>Gheorghe Stratan (Author) ;</td>\n",
       "      <td>2016</td>\n",
       "    </tr>\n",
       "    <tr>\n",
       "      <th>5</th>\n",
       "      <td>//data.isiscb.org/isis/citation/CBB917832903/</td>\n",
       "      <td>What moved Copernicus to switch from the time...</td>\n",
       "      <td>André Goddu (Author) ;</td>\n",
       "      <td>2016</td>\n",
       "    </tr>\n",
       "    <tr>\n",
       "      <th>6</th>\n",
       "      <td>//data.isiscb.org/isis/citation/CBB985320973/</td>\n",
       "      <td>Distortion of Scientific Terms by Supposed Mo...</td>\n",
       "      <td>Fritz Krafft (Author) ;</td>\n",
       "      <td>2016</td>\n",
       "    </tr>\n",
       "    <tr>\n",
       "      <th>7</th>\n",
       "      <td>//data.isiscb.org/isis/citation/CBB906472418/</td>\n",
       "      <td>Nicolaus Copernicus (1473-1543) is a pivotal ...</td>\n",
       "      <td>Owen Gingerich (Author) ;</td>\n",
       "      <td>2016</td>\n",
       "    </tr>\n",
       "    <tr>\n",
       "      <th>8</th>\n",
       "      <td>//data.isiscb.org/isis/citation/CBB847681863/</td>\n",
       "      <td>In 1454 Georg Peurbach taught astronomy at th...</td>\n",
       "      <td>Michela Malpangotto (Author) ;</td>\n",
       "      <td>2016</td>\n",
       "    </tr>\n",
       "    <tr>\n",
       "      <th>9</th>\n",
       "      <td>//data.isiscb.org/isis/citation/CBB706376729/</td>\n",
       "      <td>NaN</td>\n",
       "      <td>Robert S. Westman (Author) ;</td>\n",
       "      <td>2016</td>\n",
       "    </tr>\n",
       "    <tr>\n",
       "      <th>10</th>\n",
       "      <td>//data.isiscb.org/isis/citation/CBB418071653/</td>\n",
       "      <td>The main thesis of this paper is that Coperni...</td>\n",
       "      <td>Geoffrey Blumenthal (Author) ;</td>\n",
       "      <td>2016</td>\n",
       "    </tr>\n",
       "  </tbody>\n",
       "</table>\n",
       "</div>"
      ],
      "text/plain": [
       "                                             http  \\\n",
       "0   //data.isiscb.org/isis/citation/CBB399918134/   \n",
       "1   //data.isiscb.org/isis/citation/CBB996745065/   \n",
       "2   //data.isiscb.org/isis/citation/CBB778304283/   \n",
       "3   //data.isiscb.org/isis/citation/CBB593896461/   \n",
       "4   //data.isiscb.org/isis/citation/CBB896915924/   \n",
       "5   //data.isiscb.org/isis/citation/CBB917832903/   \n",
       "6   //data.isiscb.org/isis/citation/CBB985320973/   \n",
       "7   //data.isiscb.org/isis/citation/CBB906472418/   \n",
       "8   //data.isiscb.org/isis/citation/CBB847681863/   \n",
       "9   //data.isiscb.org/isis/citation/CBB706376729/   \n",
       "10  //data.isiscb.org/isis/citation/CBB418071653/   \n",
       "\n",
       "                                             Abstract  \\\n",
       "0    In 1984, Noel Swerdlow and Otto Neugebauer ar...   \n",
       "1    This paper distinguishes four perspectives in...   \n",
       "2    A page of notes in Copernicus’s hand shows th...   \n",
       "3    It has long been recognized that Copernicus’ ...   \n",
       "4    The present paper follows the method introduc...   \n",
       "5    What moved Copernicus to switch from the time...   \n",
       "6    Distortion of Scientific Terms by Supposed Mo...   \n",
       "7    Nicolaus Copernicus (1473-1543) is a pivotal ...   \n",
       "8    In 1454 Georg Peurbach taught astronomy at th...   \n",
       "9                                                 NaN   \n",
       "10   The main thesis of this paper is that Coperni...   \n",
       "\n",
       "                               Authors & Contributors Publication Date  \n",
       "0    F. Jamil Ragep (Editor) ; Rivka Feldhay (Edit...             2017  \n",
       "1                           Miguel de Asúa (Author) ;             2017  \n",
       "2                            N.M. Swerdlow (Author) ;             2017  \n",
       "3                           F. Jamil Ragep (Author) ;             2016  \n",
       "4                         Gheorghe Stratan (Author) ;             2016  \n",
       "5                              André Goddu (Author) ;             2016  \n",
       "6                             Fritz Krafft (Author) ;             2016  \n",
       "7                           Owen Gingerich (Author) ;             2016  \n",
       "8                      Michela Malpangotto (Author) ;             2016  \n",
       "9                        Robert S. Westman (Author) ;             2016  \n",
       "10                     Geoffrey Blumenthal (Author) ;             2016  "
      ]
     },
     "execution_count": 39,
     "metadata": {},
     "output_type": "execute_result"
    }
   ],
   "source": [
    "dfISIS = dfISISTemp.dropna(axis=1,thresh=2)\n",
    "dfISIS = dfISIS.dropna(axis=0,how='all')\n",
    "dfISIS"
   ]
  },
  {
   "cell_type": "markdown",
   "metadata": {},
   "source": [
    "## Suchanfrage II: Newtons Gesammelte Werke \n",
    "\n",
    "Die Homepage des Newton Projects der University of Sussex, http://www.newtonproject.sussex.ac.uk/, bietet besser strukturierte Inhalte. \n",
    "Hier können die Informationen mit passenden Klassennamen sinnvoll ausgelesen werden. \n",
    "\n",
    "Die genauen Spezifikation sind als PDF verfügbar: http://www.newtonproject.sussex.ac.uk/resources/pdfs/techspec.pdf"
   ]
  },
  {
   "cell_type": "code",
   "execution_count": 40,
   "metadata": {
    "collapsed": true
   },
   "outputs": [],
   "source": [
    "url3 = 'http://www.newtonproject.sussex.ac.uk/prism.php?id=43'\n",
    "\n",
    "r3  = requests.get(url3)\n",
    "\n",
    "data3 = r3.text\n",
    "\n",
    "soup3 = BeautifulSoup(data3,'lxml')"
   ]
  },
  {
   "cell_type": "code",
   "execution_count": 41,
   "metadata": {
    "collapsed": true
   },
   "outputs": [],
   "source": [
    "baseURLNewton = 'http://www.newtonproject.sussex.ac.uk'"
   ]
  },
  {
   "cell_type": "markdown",
   "metadata": {},
   "source": [
    "Die Einträge werden in einer Table mit der Klasse `record` ausgegeben. "
   ]
  },
  {
   "cell_type": "code",
   "execution_count": 42,
   "metadata": {
    "collapsed": true
   },
   "outputs": [],
   "source": [
    "allrecords = soup3.findAll('td',class_='record')"
   ]
  },
  {
   "cell_type": "markdown",
   "metadata": {},
   "source": [
    "Der Title eines Eintrags:"
   ]
  },
  {
   "cell_type": "code",
   "execution_count": 43,
   "metadata": {},
   "outputs": [
    {
     "data": {
      "text/plain": [
       "\"Appointment of Edward Harley as keeper of the officers' diet [ie. caterer], succeeding Richard Millward.\""
      ]
     },
     "execution_count": 43,
     "metadata": {},
     "output_type": "execute_result"
    }
   ],
   "source": [
    "allrecords[0].findAll('p',class_='title')[0].text"
   ]
  },
  {
   "cell_type": "markdown",
   "metadata": {},
   "source": [
    "den Author erhalten wir über "
   ]
  },
  {
   "cell_type": "code",
   "execution_count": 44,
   "metadata": {},
   "outputs": [
    {
     "data": {
      "text/plain": [
       "'Author: \\n                            \\n                                Isaac Newton\\n                            \\n                        '"
      ]
     },
     "execution_count": 44,
     "metadata": {},
     "output_type": "execute_result"
    }
   ],
   "source": [
    "allrecords[0].findAll('p',class_='author')[0].text"
   ]
  },
  {
   "cell_type": "markdown",
   "metadata": {},
   "source": [
    "ebenso verfahren wir mit metadata, source, links und primary_key. Wieder wird eine Liste mit Sub-Dictionaries erzeugt und daraus ein Dataframe gebaut. \n",
    "\n",
    "Um den normalisierten Volltext zu erhalten, folgen wir wieder einem Link auf die Unterseite und extrahieren dort den Text. Dieser ist eindeutig markiert mit der id `tei`\n",
    "Über den Befehl `.text` erhalten wir den Text ohne die HTML-Struktur."
   ]
  },
  {
   "cell_type": "markdown",
   "metadata": {},
   "source": [
    "**Achtung:**\n",
    "\n",
    "Das Abfragen von allen Einträgen dauert etwas länger. Daher werden unten nur die ersten 10 Einträge abgefragt (`[:10]`) um den Server der Uni Sussex nicht zu überlasten. Wenn die Texte mit NLTK weiter bearbeitet werden sollen, bietet es sich daher an, den resultierenden Dataframe als Pickle abzuspeichern. "
   ]
  },
  {
   "cell_type": "code",
   "execution_count": 45,
   "metadata": {
    "collapsed": true
   },
   "outputs": [],
   "source": [
    "dictListNewton = []\n",
    "for record in soup3.findAll('td',class_='record')[:10]:\n",
    "    subDict = {}\n",
    "    for keyClass in ['title', 'author','metadata','source','primary_key']:\n",
    "        try:\n",
    "            value = record.findAll('p',class_=keyClass)[0].text\n",
    "            subDict[keyClass] = value\n",
    "        except:\n",
    "            subDict[keyClass] = None\n",
    "    links = record.findAll('a',href=True,text='Normalized\\xa0Text')\n",
    "    if links:\n",
    "        scndLevel = baseURLNewton + links[0]['href']\n",
    "        scndRes = requests.get(scndLevel)\n",
    "        dataTemp = scndRes.text\n",
    "        soupTemp = BeautifulSoup(dataTemp,'lxml')\n",
    "        text = soupTemp.findAll('div',id='tei')\n",
    "        subDict['norm_text'] = text[0]\n",
    "    dictListNewton.append(subDict)    "
   ]
  },
  {
   "cell_type": "code",
   "execution_count": 46,
   "metadata": {},
   "outputs": [
    {
     "data": {
      "text/html": [
       "<div>\n",
       "<style scoped>\n",
       "    .dataframe tbody tr th:only-of-type {\n",
       "        vertical-align: middle;\n",
       "    }\n",
       "\n",
       "    .dataframe tbody tr th {\n",
       "        vertical-align: top;\n",
       "    }\n",
       "\n",
       "    .dataframe thead th {\n",
       "        text-align: right;\n",
       "    }\n",
       "</style>\n",
       "<table border=\"1\" class=\"dataframe\">\n",
       "  <thead>\n",
       "    <tr style=\"text-align: right;\">\n",
       "      <th></th>\n",
       "      <th>author</th>\n",
       "      <th>metadata</th>\n",
       "      <th>primary_key</th>\n",
       "      <th>source</th>\n",
       "      <th>title</th>\n",
       "    </tr>\n",
       "  </thead>\n",
       "  <tbody>\n",
       "    <tr>\n",
       "      <th>0</th>\n",
       "      <td>Author: \\n                            \\n      ...</td>\n",
       "      <td>Metadata: 8 June 1622., \\n                    ...</td>\n",
       "      <td>None</td>\n",
       "      <td>None</td>\n",
       "      <td>Appointment of Edward Harley as keeper of the ...</td>\n",
       "    </tr>\n",
       "    <tr>\n",
       "      <th>1</th>\n",
       "      <td>Author: \\n                            \\n      ...</td>\n",
       "      <td>Metadata: 1659-early 1660s, in English, \\n    ...</td>\n",
       "      <td>None</td>\n",
       "      <td>None</td>\n",
       "      <td>Pierpont Morgan Notebook</td>\n",
       "    </tr>\n",
       "    <tr>\n",
       "      <th>2</th>\n",
       "      <td>Author: \\n                            \\n      ...</td>\n",
       "      <td>Metadata: early-mid 1660s, in Greek,  Latin an...</td>\n",
       "      <td>None</td>\n",
       "      <td>None</td>\n",
       "      <td>'Quæstiones quædam Philosophiæ' ('Certain Phil...</td>\n",
       "    </tr>\n",
       "  </tbody>\n",
       "</table>\n",
       "</div>"
      ],
      "text/plain": [
       "                                              author  \\\n",
       "0  Author: \\n                            \\n      ...   \n",
       "1  Author: \\n                            \\n      ...   \n",
       "2  Author: \\n                            \\n      ...   \n",
       "\n",
       "                                            metadata primary_key source  \\\n",
       "0  Metadata: 8 June 1622., \\n                    ...        None   None   \n",
       "1  Metadata: 1659-early 1660s, in English, \\n    ...        None   None   \n",
       "2  Metadata: early-mid 1660s, in Greek,  Latin an...        None   None   \n",
       "\n",
       "                                               title  \n",
       "0  Appointment of Edward Harley as keeper of the ...  \n",
       "1                           Pierpont Morgan Notebook  \n",
       "2  'Quæstiones quædam Philosophiæ' ('Certain Phil...  "
      ]
     },
     "execution_count": 46,
     "metadata": {},
     "output_type": "execute_result"
    }
   ],
   "source": [
    "dfNewton = pd.DataFrame(dictListNewton)\n",
    "dfNewton.head(3)"
   ]
  },
  {
   "cell_type": "code",
   "execution_count": 47,
   "metadata": {},
   "outputs": [
    {
     "data": {
      "text/plain": [
       "(10, 5)"
      ]
     },
     "execution_count": 47,
     "metadata": {},
     "output_type": "execute_result"
    }
   ],
   "source": [
    "dfNewton.shape"
   ]
  },
  {
   "cell_type": "markdown",
   "metadata": {},
   "source": [
    "### Speichern und Laden von Dataframes\n",
    "\n",
    "Die Struktur von Dataframes bietet es an, diese als JSON zu speichern. Das erfolgt einfach mit df.to_json('Dateiname'). Über die normale Einleseroutine von JSONs kann dann der Dataframe aus der Datei wieder hergestellt werden. Die bereits vorhandene JSON Datei enthält alle 250 Einträge zu Newton."
   ]
  },
  {
   "cell_type": "code",
   "execution_count": 48,
   "metadata": {
    "collapsed": true
   },
   "outputs": [],
   "source": [
    "# Save dataframe to json file on disk\n",
    "#dfNewton.to_json('./newton_metadata_frame.json')"
   ]
  },
  {
   "cell_type": "code",
   "execution_count": 49,
   "metadata": {
    "collapsed": true
   },
   "outputs": [],
   "source": [
    "# Load by using\n",
    "# with open('./newton_metadata_frame.json') as NewtonData:\n",
    "#     newtonJson = json.load(NewtonData)\n",
    "#     dfTest = pd.DataFrame(newtonJson)"
   ]
  },
  {
   "cell_type": "markdown",
   "metadata": {},
   "source": [
    "# Geographische Daten\n",
    "\n",
    "Antike Orte in dem Projekt https://pleiades.stoa.org/ können über eine API abgefragt werden: http://api.pleiades.stoa.org/"
   ]
  },
  {
   "cell_type": "markdown",
   "metadata": {},
   "source": [
    "Zeige den aktuellen Zustand des Projekts"
   ]
  },
  {
   "cell_type": "code",
   "execution_count": 50,
   "metadata": {},
   "outputs": [
    {
     "data": {
      "text/plain": [
       "{'num_locations': 39462, 'num_names': 32064, 'num_places': 35761}"
      ]
     },
     "execution_count": 50,
     "metadata": {},
     "output_type": "execute_result"
    }
   ],
   "source": [
    "res = requests.get('http://api.pleiades.stoa.org/status')\n",
    "res.json()"
   ]
  },
  {
   "cell_type": "markdown",
   "metadata": {},
   "source": [
    "Erhalte Informationen zu einer bestimmten Stadt, kodiert durch ID."
   ]
  },
  {
   "cell_type": "code",
   "execution_count": 51,
   "metadata": {
    "collapsed": true
   },
   "outputs": [],
   "source": [
    "res2 = requests.get('http://pleiades.stoa.org/places/423025/json')\n",
    "jsonRes = res2.json()"
   ]
  },
  {
   "cell_type": "code",
   "execution_count": 52,
   "metadata": {},
   "outputs": [
    {
     "data": {
      "text/plain": [
       "dict_keys(['placeTypes', '@type', 'connectsWith', 'references', 'description', 'title', 'rights', 'created', 'history', 'review_state', '@context', 'uri', 'subject', 'contributors', 'names', 'id', 'provenance', 'bbox', 'features', 'details', 'locations', 'creators', 'type', 'reprPoint'])"
      ]
     },
     "execution_count": 52,
     "metadata": {},
     "output_type": "execute_result"
    }
   ],
   "source": [
    "jsonRes.keys()"
   ]
  },
  {
   "cell_type": "code",
   "execution_count": 53,
   "metadata": {},
   "outputs": [
    {
     "data": {
      "text/html": [
       "<div>\n",
       "<style scoped>\n",
       "    .dataframe tbody tr th:only-of-type {\n",
       "        vertical-align: middle;\n",
       "    }\n",
       "\n",
       "    .dataframe tbody tr th {\n",
       "        vertical-align: top;\n",
       "    }\n",
       "\n",
       "    .dataframe thead th {\n",
       "        text-align: right;\n",
       "    }\n",
       "</style>\n",
       "<table border=\"1\" class=\"dataframe\">\n",
       "  <thead>\n",
       "    <tr style=\"text-align: right;\">\n",
       "      <th></th>\n",
       "      <th>@context</th>\n",
       "      <th>@type</th>\n",
       "      <th>bbox</th>\n",
       "      <th>connectsWith</th>\n",
       "      <th>contributors</th>\n",
       "      <th>created</th>\n",
       "      <th>creators</th>\n",
       "      <th>description</th>\n",
       "      <th>details</th>\n",
       "      <th>features</th>\n",
       "      <th>...</th>\n",
       "      <th>placeTypes</th>\n",
       "      <th>provenance</th>\n",
       "      <th>references</th>\n",
       "      <th>reprPoint</th>\n",
       "      <th>review_state</th>\n",
       "      <th>rights</th>\n",
       "      <th>subject</th>\n",
       "      <th>title</th>\n",
       "      <th>type</th>\n",
       "      <th>uri</th>\n",
       "    </tr>\n",
       "  </thead>\n",
       "  <tbody>\n",
       "    <tr>\n",
       "      <th>0</th>\n",
       "      <td>{'title': 'dcterms:title', 'rights': 'dcterms:...</td>\n",
       "      <td>Place</td>\n",
       "      <td>[12.486137, 41.891775, 12.486137, 41.891775]</td>\n",
       "      <td>[https://pleiades.stoa.org/places/303999556, h...</td>\n",
       "      <td>[{'name': 'DARMC', 'username': None}, {'name':...</td>\n",
       "      <td>2010-11-10T22:33:36Z</td>\n",
       "      <td>[{'name': 'L. Quilici', 'username': None}, {'n...</td>\n",
       "      <td>The capital of the Roman Republic and Empire.</td>\n",
       "      <td>&lt;p&gt;The Barrington Atlas Directory notes: Roma/...</td>\n",
       "      <td>[{'id': 'darmc-location-30635', 'geometry': {'...</td>\n",
       "      <td>...</td>\n",
       "      <td>[urban, settlement]</td>\n",
       "      <td>Barrington Atlas: BAtlas 43 B2 Roma</td>\n",
       "      <td>[{'otherIdentifier': ' ', 'accessURI': '', 'sh...</td>\n",
       "      <td>[12.486137, 41.891775]</td>\n",
       "      <td>published</td>\n",
       "      <td>Copyright © The Contributors. Sharing and remi...</td>\n",
       "      <td>[dare:major=1, dare:feature=major settlement, ...</td>\n",
       "      <td>Roma</td>\n",
       "      <td>FeatureCollection</td>\n",
       "      <td>https://pleiades.stoa.org/places/423025</td>\n",
       "    </tr>\n",
       "  </tbody>\n",
       "</table>\n",
       "<p>1 rows × 24 columns</p>\n",
       "</div>"
      ],
      "text/plain": [
       "                                            @context  @type  \\\n",
       "0  {'title': 'dcterms:title', 'rights': 'dcterms:...  Place   \n",
       "\n",
       "                                           bbox  \\\n",
       "0  [12.486137, 41.891775, 12.486137, 41.891775]   \n",
       "\n",
       "                                        connectsWith  \\\n",
       "0  [https://pleiades.stoa.org/places/303999556, h...   \n",
       "\n",
       "                                        contributors               created  \\\n",
       "0  [{'name': 'DARMC', 'username': None}, {'name':...  2010-11-10T22:33:36Z   \n",
       "\n",
       "                                            creators  \\\n",
       "0  [{'name': 'L. Quilici', 'username': None}, {'n...   \n",
       "\n",
       "                                     description  \\\n",
       "0  The capital of the Roman Republic and Empire.   \n",
       "\n",
       "                                             details  \\\n",
       "0  <p>The Barrington Atlas Directory notes: Roma/...   \n",
       "\n",
       "                                            features  \\\n",
       "0  [{'id': 'darmc-location-30635', 'geometry': {'...   \n",
       "\n",
       "                    ...                              placeTypes  \\\n",
       "0                   ...                     [urban, settlement]   \n",
       "\n",
       "                            provenance  \\\n",
       "0  Barrington Atlas: BAtlas 43 B2 Roma   \n",
       "\n",
       "                                          references               reprPoint  \\\n",
       "0  [{'otherIdentifier': ' ', 'accessURI': '', 'sh...  [12.486137, 41.891775]   \n",
       "\n",
       "  review_state                                             rights  \\\n",
       "0    published  Copyright © The Contributors. Sharing and remi...   \n",
       "\n",
       "                                             subject title               type  \\\n",
       "0  [dare:major=1, dare:feature=major settlement, ...  Roma  FeatureCollection   \n",
       "\n",
       "                                       uri  \n",
       "0  https://pleiades.stoa.org/places/423025  \n",
       "\n",
       "[1 rows x 24 columns]"
      ]
     },
     "execution_count": 53,
     "metadata": {},
     "output_type": "execute_result"
    }
   ],
   "source": [
    "dfRoma = pd.DataFrame([jsonRes])\n",
    "dfRoma"
   ]
  },
  {
   "cell_type": "markdown",
   "metadata": {},
   "source": [
    "Zeige verknüpfte Straßen zu dem Hauptort. Hierzu wird für jede Adresse in der Liste `dfRoma[connectsWith]` eine Anfrage gestellt und aus dem resultierenden JSON der Titel ausgelesen. \n",
    "\n",
    "In diesem Beispiel werden nur die ersten 20 Links abgefragt. "
   ]
  },
  {
   "cell_type": "code",
   "execution_count": 54,
   "metadata": {
    "collapsed": true
   },
   "outputs": [],
   "source": [
    "connectedStreets = []\n",
    "for i in (dfRoma['connectsWith'].iloc[0])[:20]:\n",
    "    res = requests.get(i + '/json')\n",
    "    try:\n",
    "        jsonRes = res.json()\n",
    "        title = jsonRes['title']\n",
    "        connectedStreets.append(title)\n",
    "    except:\n",
    "        pass"
   ]
  },
  {
   "cell_type": "code",
   "execution_count": 55,
   "metadata": {},
   "outputs": [
    {
     "data": {
      "text/plain": [
       "['Via Portuensis?',\n",
       " 'Via Aemilia Scauri',\n",
       " 'Via Latina',\n",
       " 'Via Cornelia',\n",
       " 'Via Nomentana',\n",
       " 'Via Ostiensis',\n",
       " 'Via Ardeatina',\n",
       " 'Via Tiburtina',\n",
       " 'Via Collatina',\n",
       " 'Via Appia',\n",
       " 'Via Clodia',\n",
       " 'Via Aurelia',\n",
       " 'Via Cassia',\n",
       " 'Via Salaria',\n",
       " 'Via Flaminia',\n",
       " 'Via Praenestina',\n",
       " 'Tiberis (river)',\n",
       " 'Via Triumphalis',\n",
       " 'Via Sublacensis']"
      ]
     },
     "execution_count": 55,
     "metadata": {},
     "output_type": "execute_result"
    }
   ],
   "source": [
    "connectedStreets"
   ]
  },
  {
   "cell_type": "code",
   "execution_count": null,
   "metadata": {
    "collapsed": true
   },
   "outputs": [],
   "source": []
  }
 ],
 "metadata": {
  "anaconda-cloud": {},
  "kernelspec": {
   "display_name": "Python 3",
   "language": "python",
   "name": "python3"
  },
  "language_info": {
   "codemirror_mode": {
    "name": "ipython",
    "version": 3
   },
   "file_extension": ".py",
   "mimetype": "text/x-python",
   "name": "python",
   "nbconvert_exporter": "python",
   "pygments_lexer": "ipython3",
   "version": "3.5.3"
  },
  "latex_envs": {
   "bibliofile": "biblio.bib",
   "cite_by": "apalike",
   "current_citInitial": 1,
   "eqLabelWithNumbers": true,
   "eqNumInitial": 0
  },
  "nav_menu": {},
  "toc": {
   "navigate_menu": true,
   "number_sections": true,
   "sideBar": true,
   "threshold": 6,
   "toc_cell": false,
   "toc_section_display": "block",
   "toc_window_display": true
  }
 },
 "nbformat": 4,
 "nbformat_minor": 1
}
